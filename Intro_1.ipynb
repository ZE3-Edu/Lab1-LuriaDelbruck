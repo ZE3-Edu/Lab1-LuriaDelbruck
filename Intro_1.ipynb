{
 "cells": [
  {
   "cell_type": "markdown",
   "metadata": {},
   "source": [
    "# A Little Python Review  (pt 1)\n",
    "## [while playing with a simulation of the Luria-Delbrück experiment]\n"
   ]
  },
  {
   "cell_type": "code",
   "execution_count": 1,
   "metadata": {},
   "outputs": [],
   "source": [
    "#importing libraries is simple, and numpy is a super useful one!\n",
    "import numpy as np"
   ]
  },
  {
   "cell_type": "markdown",
   "metadata": {},
   "source": [
    "### We can use a list to keep track of each organism in our population\n",
    "Let's keep track of individuals as an integer, where the value `0` represents a sensitive individual and a `1` represents a resistant mutant. \n"
   ]
  },
  {
   "cell_type": "code",
   "execution_count": 2,
   "metadata": {},
   "outputs": [],
   "source": [
    "population = []"
   ]
  },
  {
   "cell_type": "markdown",
   "metadata": {},
   "source": [
    "### Let's start our population out with a single sensitive individual\n",
    "\n",
    "We can add on organisms to our population array using the `append` function, which tacks on whatever we pass in and sticks it on the end of the list. "
   ]
  },
  {
   "cell_type": "code",
   "execution_count": 3,
   "metadata": {},
   "outputs": [
    {
     "name": "stdout",
     "output_type": "stream",
     "text": [
      "[0]\n"
     ]
    }
   ],
   "source": [
    "population.append(0)\n",
    "print(population)"
   ]
  },
  {
   "cell_type": "markdown",
   "metadata": {},
   "source": [
    "### First, we need to have our digital population \"grow\" \n",
    "For now, let's do this explicitly by having each of our organisms reproduce with some chance, `prob_repro`. We can loop through the population and check if each organism is lucky enough to reproduce in the next generation.\n",
    "\n",
    "#### A few notes on Python specifics\n",
    "`len(population)` is the size of the array holding our organisms (the population size), and `range(X)` will return an iterator that counts from 0 to X-1. \n",
    "\n",
    "`range(X)` is shorthand for `range(min, max, count)` where `min=0`, `max=X`, and `count=1`. But, we could use this function to count between 7 and 32, counting up by 2, for example by calling `range(7, 32, 2)`. \n",
    "\n"
   ]
  },
  {
   "cell_type": "code",
   "execution_count": 4,
   "metadata": {},
   "outputs": [
    {
     "name": "stdout",
     "output_type": "stream",
     "text": [
      "[0, 0]\n"
     ]
    }
   ],
   "source": [
    "#Each organism has a 50% chance of reproducing\n",
    "prob_repro = 0.5 \n",
    "\n",
    "for pop_idx in range(len(population)):\n",
    "    if np.random.rand() < prob_repro:\n",
    "        #the organism at pop_idx location in our array gets to reproduce! \n",
    "        population.append(population[pop_idx])\n",
    "        \n",
    "print(population)      \n",
    "    "
   ]
  },
  {
   "cell_type": "markdown",
   "metadata": {},
   "source": [
    "### With only one individual, and a 50% chance of reproduction, we didn't see any growth this generation! \n",
    "\n",
    "Let's try running this for a few more generations. Maybe 5 for now.\n",
    "\n",
    "I'm also going to explicitly re-create our population array, just so we're all starting at the same place.\n",
    "\n",
    "#### A few things to focus on\n",
    "Make sure the line `if np.random.rand() < prob_repro:` makes sense. This is the foundation of a lot of other probabilistic bits of code we'll be working with in class! \n",
    "\n",
    "I'm also introducing output formating, which is a nice way to print out more useful values. There are too many options to go through here, but it's something worth knowing about.\n"
   ]
  },
  {
   "cell_type": "code",
   "execution_count": 5,
   "metadata": {},
   "outputs": [
    {
     "name": "stdout",
     "output_type": "stream",
     "text": [
      "Gen 1\n",
      "[0, 0]\n",
      "Gen 2\n",
      "[0, 0, 0, 0]\n",
      "Gen 3\n",
      "[0, 0, 0, 0, 0, 0, 0, 0]\n",
      "Gen 4\n",
      "[0, 0, 0, 0, 0, 0, 0, 0, 0, 0, 0, 0]\n",
      "Gen 5\n",
      "[0, 0, 0, 0, 0, 0, 0, 0, 0, 0, 0, 0, 0, 0, 0, 0, 0, 0, 0, 0]\n"
     ]
    }
   ],
   "source": [
    "#start with a single organism in our population\n",
    "population = [0]\n",
    "\n",
    "num_generations = 5\n",
    "\n",
    "for generation in range(num_generations):\n",
    "    print(\"Gen {0}\".format(generation+1))\n",
    "    for pop_idx in range(len(population)):\n",
    "        if np.random.rand() < prob_repro:\n",
    "            #the organism at pop_idx location in our array gets to reproduce! \n",
    "            population.append(population[pop_idx])\n",
    "            \n",
    "    #now that we're done with reproduction for this generation let's print \n",
    "    #out the new population\n",
    "    print(population)\n",
    "    "
   ]
  },
  {
   "cell_type": "markdown",
   "metadata": {},
   "source": [
    "### I'm going to run this a few times, just so we can see how stochastic the growth is!"
   ]
  },
  {
   "cell_type": "code",
   "execution_count": 15,
   "metadata": {},
   "outputs": [
    {
     "name": "stdout",
     "output_type": "stream",
     "text": [
      "Gen 1\n",
      "[0, 0]\n",
      "Gen 2\n",
      "[0, 0, 0]\n",
      "Gen 3\n",
      "[0, 0, 0, 0, 0]\n",
      "Gen 4\n",
      "[0, 0, 0, 0, 0, 0]\n",
      "Gen 5\n",
      "[0, 0, 0, 0, 0, 0, 0, 0, 0, 0]\n"
     ]
    }
   ],
   "source": [
    "#start with a single organism in our population\n",
    "population = [0]\n",
    "\n",
    "num_generations = 5\n",
    "\n",
    "for generation in range(num_generations):\n",
    "    print(\"Gen {0}\".format(generation+1))\n",
    "    for pop_idx in range(len(population)):\n",
    "        if np.random.rand() < prob_repro:\n",
    "            #the organism at pop_idx location in our array gets to reproduce! \n",
    "            population.append(population[pop_idx])\n",
    "            \n",
    "    #now that we're done with reproduction for this generation let's print \n",
    "    #out the new population\n",
    "    print(population)\n",
    "    "
   ]
  },
  {
   "cell_type": "code",
   "execution_count": 19,
   "metadata": {},
   "outputs": [
    {
     "name": "stdout",
     "output_type": "stream",
     "text": [
      "Gen 1\n",
      "[0]\n",
      "Gen 2\n",
      "[0]\n",
      "Gen 3\n",
      "[0, 0]\n",
      "Gen 4\n",
      "[0, 0]\n",
      "Gen 5\n",
      "[0, 0, 0]\n"
     ]
    }
   ],
   "source": [
    "#start with a single organism in our population\n",
    "population = [0]\n",
    "\n",
    "num_generations = 5\n",
    "\n",
    "for generation in range(num_generations):\n",
    "    print(\"Gen {0}\".format(generation+1))\n",
    "    for pop_idx in range(len(population)):\n",
    "        if np.random.rand() < prob_repro:\n",
    "            #the organism at pop_idx location in our array gets to reproduce! \n",
    "            population.append(population[pop_idx])\n",
    "            \n",
    "    #now that we're done with reproduction for this generation let's print \n",
    "    #out the new population\n",
    "    print(population)\n",
    "    "
   ]
  },
  {
   "cell_type": "markdown",
   "metadata": {},
   "source": [
    "## Some populations took off right away, and some like this last one didn't grow at all the first few generations!\n",
    "\n",
    "This kind of randomness is sometimes called **demographic stochasticity** in biology, and it can be a really important part of the evolutionary process. For now, let's hold off on digging in too much here -- there will be another lab that's all about how this stochasticity affects evolution. \n",
    "\n",
    "### Instead, let's simulate many populations (i.e., replicates) all at once and plot how the population size changes over time.\n",
    "\n",
    "To do this, we'll keep track of a `list` *of lists*, where each inner list is the population array associated with a particular replicate.\n",
    "\n",
    "There are lots of ways to do this, but one of my favorite Python tricks is using list comprehensions, like where I've written `populations = [[0] for rep_idx in range(num_replicates)]` to define our list of lists with the right number of initialized population lists. \n",
    "\n",
    "To plot population sizes over time, we'll need another place to keep track of those! "
   ]
  },
  {
   "cell_type": "code",
   "execution_count": 8,
   "metadata": {},
   "outputs": [
    {
     "name": "stdout",
     "output_type": "stream",
     "text": [
      "Gen: 1, Replicate: 0, Pop Size: 2\n",
      "Gen: 2, Replicate: 0, Pop Size: 4\n",
      "Gen: 3, Replicate: 0, Pop Size: 5\n",
      "Gen: 4, Replicate: 0, Pop Size: 9\n",
      "Gen: 5, Replicate: 0, Pop Size: 12\n",
      "Gen: 6, Replicate: 0, Pop Size: 17\n",
      "Gen: 7, Replicate: 0, Pop Size: 26\n",
      "Gen: 8, Replicate: 0, Pop Size: 40\n",
      "Gen: 9, Replicate: 0, Pop Size: 58\n",
      "Gen: 10, Replicate: 0, Pop Size: 87\n",
      " \n",
      "Gen: 1, Replicate: 1, Pop Size: 1\n",
      "Gen: 2, Replicate: 1, Pop Size: 2\n",
      "Gen: 3, Replicate: 1, Pop Size: 4\n",
      "Gen: 4, Replicate: 1, Pop Size: 6\n",
      "Gen: 5, Replicate: 1, Pop Size: 8\n",
      "Gen: 6, Replicate: 1, Pop Size: 10\n",
      "Gen: 7, Replicate: 1, Pop Size: 16\n",
      "Gen: 8, Replicate: 1, Pop Size: 27\n",
      "Gen: 9, Replicate: 1, Pop Size: 37\n",
      "Gen: 10, Replicate: 1, Pop Size: 58\n",
      " \n",
      "Gen: 1, Replicate: 2, Pop Size: 1\n",
      "Gen: 2, Replicate: 2, Pop Size: 1\n",
      "Gen: 3, Replicate: 2, Pop Size: 1\n",
      "Gen: 4, Replicate: 2, Pop Size: 1\n",
      "Gen: 5, Replicate: 2, Pop Size: 1\n",
      "Gen: 6, Replicate: 2, Pop Size: 2\n",
      "Gen: 7, Replicate: 2, Pop Size: 4\n",
      "Gen: 8, Replicate: 2, Pop Size: 6\n",
      "Gen: 9, Replicate: 2, Pop Size: 7\n",
      "Gen: 10, Replicate: 2, Pop Size: 10\n",
      " \n",
      "Gen: 1, Replicate: 3, Pop Size: 2\n",
      "Gen: 2, Replicate: 3, Pop Size: 4\n",
      "Gen: 3, Replicate: 3, Pop Size: 5\n",
      "Gen: 4, Replicate: 3, Pop Size: 6\n",
      "Gen: 5, Replicate: 3, Pop Size: 9\n",
      "Gen: 6, Replicate: 3, Pop Size: 14\n",
      "Gen: 7, Replicate: 3, Pop Size: 21\n",
      "Gen: 8, Replicate: 3, Pop Size: 33\n",
      "Gen: 9, Replicate: 3, Pop Size: 50\n",
      "Gen: 10, Replicate: 3, Pop Size: 72\n",
      " \n",
      "Gen: 1, Replicate: 4, Pop Size: 1\n",
      "Gen: 2, Replicate: 4, Pop Size: 1\n",
      "Gen: 3, Replicate: 4, Pop Size: 1\n",
      "Gen: 4, Replicate: 4, Pop Size: 1\n",
      "Gen: 5, Replicate: 4, Pop Size: 1\n",
      "Gen: 6, Replicate: 4, Pop Size: 1\n",
      "Gen: 7, Replicate: 4, Pop Size: 2\n",
      "Gen: 8, Replicate: 4, Pop Size: 3\n",
      "Gen: 9, Replicate: 4, Pop Size: 4\n",
      "Gen: 10, Replicate: 4, Pop Size: 8\n",
      " \n",
      "All Done! Let's look at the pop_size data.\n",
      "[[2, 4, 5, 9, 12, 17, 26, 40, 58, 87], [1, 2, 4, 6, 8, 10, 16, 27, 37, 58], [1, 1, 1, 1, 1, 2, 4, 6, 7, 10], [2, 4, 5, 6, 9, 14, 21, 33, 50, 72], [1, 1, 1, 1, 1, 1, 2, 3, 4, 8]]\n"
     ]
    }
   ],
   "source": [
    "num_replicates = 5\n",
    "num_generations = 10 #let's run a little longer this time\n",
    "\n",
    "populations = [[0] for rep_idx in range(num_replicates)]\n",
    "pop_sizes = [[] for rep_idx in range(num_replicates)]\n",
    "\n",
    "for rep in range(num_replicates): \n",
    "    this_population = populations[rep]\n",
    "    \n",
    "    for generation in range(num_generations):\n",
    "        for pop_idx in range(len(this_population)):\n",
    "            if np.random.rand() < prob_repro:\n",
    "                #the organism at pop_idx location in our array gets to reproduce! \n",
    "                this_population.append(this_population[pop_idx])\n",
    "\n",
    "        pop_sizes[rep].append(len(this_population))\n",
    "        print(\"Gen: {0}, Replicate: {1}, Pop Size: {2}\".format(generation+1, rep, len(this_population)))\n",
    "\n",
    "    print(\" \") #just some whitespace for legibility\n",
    "    \n",
    "\n",
    "print(\"All Done! Let's look at the pop_size data.\")\n",
    "print(pop_sizes)"
   ]
  },
  {
   "cell_type": "markdown",
   "metadata": {},
   "source": [
    "## Now let's make a plot of our growing populations!\n",
    "`matplotlib` is Python's most popular plotting library, and as the name might suggest, it's trying to replicate the features of matlab's plotting. I don't ever use matlab, so that's all I have to say about that. \n",
    "\n",
    "Most of what we need is in the `pyplot` module, so we'll just load that one in. "
   ]
  },
  {
   "cell_type": "code",
   "execution_count": 9,
   "metadata": {},
   "outputs": [
    {
     "data": {
      "text/plain": [
       "<Figure size 640x480 with 1 Axes>"
      ]
     },
     "metadata": {},
     "output_type": "display_data"
    }
   ],
   "source": [
    "from matplotlib import pyplot as plt\n",
    "plt.plot(pop_sizes)\n",
    "\n",
    "plt.ylabel(\"Pop Size\")\n",
    "plt.xlabel(\"Generation\")\n",
    "plt.show()"
   ]
  },
  {
   "cell_type": "markdown",
   "metadata": {},
   "source": [
    "## Okay, this looks weird...\n",
    "Our populations don't decrease in size, so we should right away know something is wrong! \n",
    "\n",
    "Matplotlib interprets these lists-of-lists a bit differently than we did, so we need to *transpose* the data. Numpy has a useful function called `transpose` we can use to do that for us! "
   ]
  },
  {
   "cell_type": "code",
   "execution_count": 10,
   "metadata": {},
   "outputs": [
    {
     "data": {
      "image/png": "[encoded data removed]",
      "text/plain": [
       "<Figure size 432x288 with 1 Axes>"
      ]
     },
     "metadata": {
      "needs_background": "light"
     },
     "output_type": "display_data"
    }
   ],
   "source": [
    "from matplotlib import pyplot as plt\n",
    "plt.plot(np.transpose(pop_sizes))\n",
    "\n",
    "plt.ylabel(\"Pop Size\")\n",
    "plt.xlabel(\"Generation\")\n",
    "plt.show()"
   ]
  },
  {
   "cell_type": "markdown",
   "metadata": {},
   "source": [
    "### Cool!  We made a stochastic simulation of a population of organisms that are exponentially growing!\n",
    "\n",
    "Let's run more replicates, and plot a distribution of final population sizes this time! "
   ]
  },
  {
   "cell_type": "code",
   "execution_count": 11,
   "metadata": {},
   "outputs": [],
   "source": [
    "num_replicates = 30\n",
    "num_generations = 10 #let's run a little longer this time\n",
    "\n",
    "populations = [[0] for rep_idx in range(num_replicates)]\n",
    "pop_sizes = [[] for rep_idx in range(num_replicates)]\n",
    "\n",
    "for rep in range(num_replicates): \n",
    "    this_population = populations[rep]\n",
    "    \n",
    "    for generation in range(num_generations):\n",
    "        for pop_idx in range(len(this_population)):\n",
    "            if np.random.rand() < prob_repro:\n",
    "                #the organism at pop_idx location in our array gets to reproduce! \n",
    "                this_population.append(this_population[pop_idx])\n",
    "\n",
    "        pop_sizes[rep].append(len(this_population))\n"
   ]
  },
  {
   "cell_type": "markdown",
   "metadata": {},
   "source": [
    "## First, just the same plot with our new data"
   ]
  },
  {
   "cell_type": "code",
   "execution_count": 12,
   "metadata": {},
   "outputs": [
    {
     "data": {
      "image/png": "[encoded data removed]",
      "text/plain": [
       "<Figure size 432x288 with 1 Axes>"
      ]
     },
     "metadata": {
      "needs_background": "light"
     },
     "output_type": "display_data"
    }
   ],
   "source": [
    "from matplotlib import pyplot as plt\n",
    "plt.plot(np.transpose(pop_sizes))\n",
    "\n",
    "plt.ylabel(\"Pop Size\")\n",
    "plt.xlabel(\"Generation\")\n",
    "plt.show()"
   ]
  },
  {
   "cell_type": "markdown",
   "metadata": {},
   "source": [
    "## We've got to get the last value of the pop sizes out of our list-of-lists. \n",
    "We can return to my favorite tool -- the list comprehension. \n",
    "\n",
    "To get the last element out of a list, we can use the shortcut index `-1`. Python supports negative indexing, which you can think of as looping around from the beginning of the list to the end. \n"
   ]
  },
  {
   "cell_type": "code",
   "execution_count": 13,
   "metadata": {},
   "outputs": [
    {
     "name": "stdout",
     "output_type": "stream",
     "text": [
      "[68, 25, 103, 51, 8, 94, 44, 28, 25, 48, 25, 64, 9, 114, 54, 69, 43, 48, 47, 42, 120, 87, 32, 140, 22, 27, 45, 65, 72, 29]\n"
     ]
    }
   ],
   "source": [
    "pop_sizes\n",
    "print([pop[-1] for pop in pop_sizes])"
   ]
  },
  {
   "cell_type": "markdown",
   "metadata": {},
   "source": [
    "#### Now we can turn this data into a histogram! "
   ]
  },
  {
   "cell_type": "code",
   "execution_count": 14,
   "metadata": {},
   "outputs": [
    {
     "data": {
      "image/png": "[encoded data removed]",
      "text/plain": [
       "<Figure size 432x288 with 1 Axes>"
      ]
     },
     "metadata": {
      "needs_background": "light"
     },
     "output_type": "display_data"
    }
   ],
   "source": [
    "from matplotlib import pyplot as plt\n",
    "plt.hist([pop[-1] for pop in pop_sizes])\n",
    "\n",
    "plt.ylabel(\"Density\")\n",
    "plt.xlabel(\"Population Size\")\n",
    "plt.show()"
   ]
  },
  {
   "cell_type": "markdown",
   "metadata": {},
   "source": [
    "# Go check out the Intro_2 Notebook to see how we can add mutations into the mix!"
   ]
  },
  {
   "cell_type": "code",
   "execution_count": null,
   "metadata": {},
   "outputs": [],
   "source": []
  }
 ],
 "metadata": {
  "kernelspec": {
   "display_name": "Python 3",
   "language": "python",
   "name": "python3"
  },
  "language_info": {
   "codemirror_mode": {
    "name": "ipython",
    "version": 3
   },
   "file_extension": ".py",
   "mimetype": "text/x-python",
   "name": "python",
   "nbconvert_exporter": "python",
   "pygments_lexer": "ipython3",
   "version": "3.7.4"
  }
 },
 "nbformat": 4,
 "nbformat_minor": 4
}
